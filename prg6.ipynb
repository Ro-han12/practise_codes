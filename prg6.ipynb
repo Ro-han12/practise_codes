{
 "cells": [
  {
   "cell_type": "code",
   "execution_count": 5,
   "metadata": {},
   "outputs": [
    {
     "name": "stdout",
     "output_type": "stream",
     "text": [
      "{0, 1, 2, 3, 4}\n"
     ]
    }
   ],
   "source": [
    "import collections\n",
    "def bfs(graph,root):\n",
    "    visited=set()\n",
    "    queue=collections.deque([root])\n",
    "    while queue:\n",
    "        vertex=queue.popleft()\n",
    "        visited.add(vertex)\n",
    "        for i in graph[vertex]:\n",
    "            if i not in visited:\n",
    "                queue.append(i)\n",
    "    print(visited)\n",
    "if __name__==\"__main__\":\n",
    "    graph={0:[1,2,3],1:[0,2,3],2:[0,1,4],3:[0],4:[2]}\n",
    "    bfs(graph,0)"
   ]
  }
 ],
 "metadata": {
  "kernelspec": {
   "display_name": "Python 3",
   "language": "python",
   "name": "python3"
  },
  "language_info": {
   "codemirror_mode": {
    "name": "ipython",
    "version": 3
   },
   "file_extension": ".py",
   "mimetype": "text/x-python",
   "name": "python",
   "nbconvert_exporter": "python",
   "pygments_lexer": "ipython3",
   "version": "3.9.6"
  }
 },
 "nbformat": 4,
 "nbformat_minor": 2
}

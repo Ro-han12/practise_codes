{
 "cells": [
  {
   "cell_type": "code",
   "execution_count": 6,
   "metadata": {},
   "outputs": [
    {
     "name": "stdout",
     "output_type": "stream",
     "text": [
      "rectangle 1 area: 15\n",
      "perimeter of rectangle1 16\n",
      "rectangle 2 area: 31.5\n",
      "perimeter of rectangle 2 23.4\n"
     ]
    }
   ],
   "source": [
    "class Rectangle():\n",
    "    def __init__(self,length,width):\n",
    "        self.length=length\n",
    "        self.width=width\n",
    "    def calculate_area(self):\n",
    "        return self.length * self.width\n",
    "    def calculate_perimeter(self):\n",
    "        return 2 * (self.length + self.width)\n",
    "rect1= Rectangle(5,3)\n",
    "rect2= Rectangle(7.5,4.2)\n",
    "print(\"rectangle 1 area:\",rect1.calculate_area())\n",
    "print(\"perimeter of rectangle1\",rect1.calculate_perimeter())\n",
    "print(\"rectangle 2 area:\",rect2.calculate_area())\n",
    "print(\"perimeter of rectangle 2\",rect2.calculate_perimeter())"
   ]
  }
 ],
 "metadata": {
  "kernelspec": {
   "display_name": "Python 3",
   "language": "python",
   "name": "python3"
  },
  "language_info": {
   "codemirror_mode": {
    "name": "ipython",
    "version": 3
   },
   "file_extension": ".py",
   "mimetype": "text/x-python",
   "name": "python",
   "nbconvert_exporter": "python",
   "pygments_lexer": "ipython3",
   "version": "3.9.6"
  }
 },
 "nbformat": 4,
 "nbformat_minor": 2
}

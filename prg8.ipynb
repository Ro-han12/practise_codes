{
 "cells": [
  {
   "cell_type": "markdown",
   "metadata": {},
   "source": []
  },
  {
   "cell_type": "code",
   "execution_count": 2,
   "metadata": {},
   "outputs": [
    {
     "name": "stdout",
     "output_type": "stream",
     "text": [
      "before cleaning: hello! how are doing.I am good bro!\n",
      "after cleaning: hello how are doingI am good bro\n"
     ]
    }
   ],
   "source": [
    "import string\n",
    "def remove_punctuations(input_sen):\n",
    "    translator=str.maketrans('','',string.punctuation)\n",
    "    sentence=input_sen.translate(translator)\n",
    "    return sentence\n",
    "input_sen=\"hello! how are doing.I am good bro!\"\n",
    "clean=remove_punctuations(input_sen)\n",
    "print(\"before cleaning:\",input_sen)\n",
    "print(\"after cleaning:\",clean)\n",
    "    \n",
    "    "
   ]
  },
  {
   "cell_type": "code",
   "execution_count": 4,
   "metadata": {},
   "outputs": [
    {
     "name": "stdout",
     "output_type": "stream",
     "text": [
      "before cleaning: hello! how are doing.I am good bro!\n",
      "after cleaning: amarebro!doing.Igoodhello!how\n"
     ]
    }
   ],
   "source": [
    "def sort_words(input_sen):\n",
    "    words=input_sen.split()\n",
    "    sorted_words=sorted(words)\n",
    "    sorted_sentence=''.join(sorted_words)\n",
    "    return sorted_sentence\n",
    "input_sen=\"hello! how are doing.I am good bro!\"\n",
    "clean=sort_words(input_sen)\n",
    "print(\"before cleaning:\",input_sen)\n",
    "print(\"after cleaning:\",clean)\n"
   ]
  },
  {
   "cell_type": "code",
   "execution_count": null,
   "metadata": {},
   "outputs": [],
   "source": []
  }
 ],
 "metadata": {
  "kernelspec": {
   "display_name": "Python 3",
   "language": "python",
   "name": "python3"
  },
  "language_info": {
   "codemirror_mode": {
    "name": "ipython",
    "version": 3
   },
   "file_extension": ".py",
   "mimetype": "text/x-python",
   "name": "python",
   "nbconvert_exporter": "python",
   "pygments_lexer": "ipython3",
   "version": "3.9.6"
  }
 },
 "nbformat": 4,
 "nbformat_minor": 2
}

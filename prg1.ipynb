{
 "cells": [
  {
   "cell_type": "code",
   "execution_count": 6,
   "metadata": {},
   "outputs": [
    {
     "name": "stdout",
     "output_type": "stream",
     "text": [
      "Multiplication table for {num} is\n",
      "2^1 is:2\n",
      "2^2 is:4\n",
      "2^3 is:6\n",
      "2^4 is:8\n",
      "2^5 is:10\n",
      "2^6 is:12\n",
      "2^7 is:14\n",
      "2^8 is:16\n",
      "2^9 is:18\n",
      "2^10 is:20\n"
     ]
    }
   ],
   "source": [
    "#prg1\n",
    "def multiplication_table(num):\n",
    "    print(\"Multiplication table for {num} is\")\n",
    "    for i in range(1,11):\n",
    "        print(f\"{num}^{i} is:{num * i}\")\n",
    "num=int(input(\"enter number for find mutiplication table for\"))\n",
    "multiplication_table(num)"
   ]
  },
  {
   "cell_type": "code",
   "execution_count": 9,
   "metadata": {},
   "outputs": [
    {
     "name": "stdout",
     "output_type": "stream",
     "text": [
      "not a prime number\n"
     ]
    }
   ],
   "source": [
    "#prg2\n",
    "def isprime(num):\n",
    "    if num<2:\n",
    "        return False\n",
    "    for i in range(2,num):\n",
    "        if num % i == 0:\n",
    "            return False\n",
    "    return True\n",
    "num=int(input(\"enter a number to find prime number\"))\n",
    "if isprime(num):\n",
    "    print(\"prime number\")\n",
    "else:\n",
    "    print(\"not a prime number\")"
   ]
  },
  {
   "cell_type": "code",
   "execution_count": 2,
   "metadata": {},
   "outputs": [
    {
     "name": "stdout",
     "output_type": "stream",
     "text": [
      "factorial of 12 is 479001600\n"
     ]
    }
   ],
   "source": [
    "def factorial(num):\n",
    "    if num<1:\n",
    "        print(\"enter value above -1\")\n",
    "    elif num == 0 or num == 1:\n",
    "        return 1\n",
    "    else:\n",
    "        return num * factorial(num-1)\n",
    "num=int(input(\"enter number to find factorial\"))\n",
    "result=factorial(num)\n",
    "if isinstance(result,int):\n",
    "    print(f\"factorial of {num} is {result}\")\n",
    "else:\n",
    "    print(result)"
   ]
  },
  {
   "cell_type": "code",
   "execution_count": null,
   "metadata": {},
   "outputs": [],
   "source": []
  }
 ],
 "metadata": {
  "kernelspec": {
   "display_name": "Python 3",
   "language": "python",
   "name": "python3"
  },
  "language_info": {
   "codemirror_mode": {
    "name": "ipython",
    "version": 3
   },
   "file_extension": ".py",
   "mimetype": "text/x-python",
   "name": "python",
   "nbconvert_exporter": "python",
   "pygments_lexer": "ipython3",
   "version": "3.9.6"
  }
 },
 "nbformat": 4,
 "nbformat_minor": 2
}

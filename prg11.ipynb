{
 "cells": [
  {
   "cell_type": "code",
   "execution_count": 10,
   "metadata": {},
   "outputs": [
    {
     "name": "stdout",
     "output_type": "stream",
     "text": [
      "before removing stopwords:\n",
      "Quod equidem non reprehendo;\n",
      "Lorem ipsum dolor sit amet, consectetur adipiscing elit. Quibus natura iure responderit non esse verum aliunde finem beate vivendi, a se principia rei gerendae peti; Quae enim adhuc protulisti, popularia sunt, ego autem a te elegantiora desidero. Duo Reges: constructio interrete. Tum Lucius: Mihi vero ista valde probata sunt, quod item fratri puto. Bestiarum vero nullum iudicium puto. Nihil enim iam habes, quod ad corpus referas; Deinde prima illa, quae in congressu solemus: Quid tu, inquit, huc? Et homini, qui ceteris animantibus plurimum praestat, praecipue a natura nihil datum esse dicemus?\n",
      "\n",
      "Iam id ipsum absurdum, maximum malum neglegi. Quod ea non occurrentia fingunt, vincunt Aristonem; Atqui perspicuum est hominem e corpore animoque constare, cum primae sint animi partes, secundae corporis. Fieri, inquam, Triari, nullo pacto potest, ut non dicas, quid non probes eius, a quo dissentias. Equidem e Cn. An dubium est, quin virtus ita maximam partem optineat in rebus humanis, ut reliquas obruat?\n",
      "\n",
      "Quis istum dolorem timet?\n",
      "Summus dolor plures dies manere non potest? Dicet pro me ipsa virtus nec dubitabit isti vestro beato M. Tubulum fuisse, qua illum, cuius is condemnatus est rogatione, P. Quod si ita sit, cur opera philosophiae sit danda nescio.\n",
      "\n",
      "Ex eorum enim scriptis et institutis cum omnis doctrina liberalis, omnis historia.\n",
      "Quod si ita est, sequitur id ipsum, quod te velle video, omnes semper beatos esse sapientes. Cum enim fertur quasi torrens oratio, quamvis multa cuiusque modi rapiat, nihil tamen teneas, nihil apprehendas, nusquam orationem rapidam coerceas. Ita redarguitur ipse a sese, convincunturque scripta eius probitate ipsius ac moribus. At quanta conantur! Mundum hunc omnem oppidum esse nostrum! Incendi igitur eos, qui audiunt, vides. Vide, ne magis, inquam, tuum fuerit, cum re idem tibi, quod mihi, videretur, non nova te rebus nomina inponere. Qui-vere falsone, quaerere mittimus-dicitur oculis se privasse; Si ista mala sunt, in quae potest incidere sapiens, sapientem esse non esse ad beate vivendum satis. At vero si ad vitem sensus accesserit, ut appetitum quendam habeat et per se ipsa moveatur, quid facturam putas?\n",
      "\n",
      "Quem si tenueris, non modo meum Ciceronem, sed etiam me ipsum abducas licebit.\n",
      "Stulti autem malorum memoria torquentur, sapientes bona praeterita grata recordatione renovata delectant.\n",
      "Esse enim quam vellet iniquus iustus poterat inpune.\n",
      "Quae autem natura suae primae institutionis oblita est?\n",
      "Verum tamen cum de rebus grandioribus dicas, ipsae res verba rapiunt;\n",
      "Hoc est non modo cor non habere, sed ne palatum quidem.\n",
      "Voluptatem cum summum bonum diceret, primum in eo ipso parum vidit, deinde hoc quoque alienum; Sed tu istuc dixti bene Latine, parum plane. Nam haec ipsa mihi erunt in promptu, quae modo audivi, nec ante aggrediar, quam te ab istis, quos dicis, instructum videro. Fatebuntur Stoici haec omnia dicta esse praeclare, neque eam causam Zenoni desciscendi fuisse. Non autem hoc: igitur ne illud quidem. Ratio quidem vestra sic cogit. Cum audissem Antiochum, Brute, ut solebam, cum M. An quod ita callida est, ut optime possit architectari voluptates?\n",
      "\n",
      "Idemne, quod iucunde?\n",
      "Haec mihi videtur delicatior, ut ita dicam, molliorque ratio, quam virtutis vis gravitasque postulat. Sed quoniam et advesperascit et mihi ad villam revertendum est, nunc quidem hactenus; Cuius ad naturam apta ratio vera illa et summa lex a philosophis dicitur. Neque solum ea communia, verum etiam paria esse dixerunt. Sed nunc, quod agimus; A mene tu?\n",
      "--------------------\n",
      "after removing stopwords: Quodequidemnonreprehendo;Loremipsumdolorsitamet,consecteturadipiscingelit.Quibusnaturaiureresponderitnonesseverumaliundefinembeatevivendi,seprincipiareigerendaepeti;Quaeenimadhucprotulisti,populariasunt,egoautemteelegantioradesidero.DuoReges:constructiointerrete.TumLucius:Mihiveroistavaldeprobatasunt,quoditemfratriputo.Bestiarumveronullumiudiciumputo.Nihilenimiamhabes,quodadcorpusreferas;Deindeprimailla,quaecongressusolemus:Quidtu,inquit,huc?Ethomini,quiceterisanimantibusplurimumpraestat,praecipuenaturanihildatumessedicemus?Iamidipsumabsurdum,maximummalumneglegi.Quodeanonoccurrentiafingunt,vincuntAristonem;Atquiperspicuumesthominemecorporeanimoqueconstare,cumprimaesintanimipartes,secundaecorporis.Fieri,inquam,Triari,nullopactopotest,utnondicas,quidnonprobeseius,quodissentias.EquidemeCn.dubiumest,quinvirtusitamaximampartemoptineatrebushumanis,utreliquasobruat?Quisistumdoloremtimet?Summusdolorpluresdiesmanerenonpotest?DicetproipsavirtusnecdubitabitistivestrobeatoM.Tubulumfuisse,quaillum,cuiuscondemnatusestrogatione,P.Quodsiitasit,curoperaphilosophiaesitdandanescio.Exeorumenimscriptisetinstitutiscumomnisdoctrinaliberalis,omnishistoria.Quodsiitaest,sequituridipsum,quodtevellevideo,omnessemperbeatosessesapientes.Cumenimferturquasitorrensoratio,quamvismultacuiusquemodirapiat,nihiltamenteneas,nihilapprehendas,nusquamorationemrapidamcoerceas.Itaredarguituripsesese,convincunturquescriptaeiusprobitateipsiusacmoribus.quantaconantur!Mundumhuncomnemoppidumessenostrum!Incendiigitureos,quiaudiunt,vides.Vide,nemagis,inquam,tuumfuerit,cumidemtibi,quodmihi,videretur,nonnovaterebusnominainponere.Qui-verefalsone,quaereremittimus-dicituroculisseprivasse;Siistamalasunt,quaepotestincideresapiens,sapientemessenonesseadbeatevivendumsatis.verosiadvitemsensusaccesserit,utappetitumquendamhabeatetperseipsamoveatur,quidfacturamputas?Quemsitenueris,nonmodomeumCiceronem,sedetiamipsumabducaslicebit.Stultiautemmalorummemoriatorquentur,sapientesbonapraeteritagratarecordationerenovatadelectant.Esseenimquamvelletiniquusiustuspoteratinpune.Quaeautemnaturasuaeprimaeinstitutionisoblitaest?Verumtamencumderebusgrandioribusdicas,ipsaeresverbarapiunt;Hocestnonmodocornonhabere,sednepalatumquidem.Voluptatemcumsummumbonumdiceret,primumeoipsoparumvidit,deindehocquoquealienum;SedtuistucdixtibeneLatine,parumplane.Namhaecipsamihieruntpromptu,quaemodoaudivi,necanteaggrediar,quamteabistis,quosdicis,instructumvidero.FatebunturStoicihaecomniadictaessepraeclare,nequeeamcausamZenonidesciscendifuisse.Nonautemhoc:igiturneilludquidem.Ratioquidemvestrasiccogit.CumaudissemAntiochum,Brute,utsolebam,cumM.quoditacallidaest,utoptimepossitarchitectarivoluptates?Idemne,quodiucunde?Haecmihivideturdelicatior,utitadicam,molliorqueratio,quamvirtutisvisgravitasquepostulat.Sedquoniametadvesperascitetmihiadvillamrevertendumest,nuncquidemhactenus;Cuiusadnaturamaptaratioveraillaetsummalexphilosophisdicitur.Nequesolumeacommunia,verumetiampariaessedixerunt.Sednunc,quodagimus;menetu?\n",
      "--------------------\n"
     ]
    },
    {
     "name": "stderr",
     "output_type": "stream",
     "text": [
      "[nltk_data] Downloading package punkt to\n",
      "[nltk_data]     /Users/rohansridhar/nltk_data...\n",
      "[nltk_data]   Package punkt is already up-to-date!\n",
      "[nltk_data] Downloading package stopwords to\n",
      "[nltk_data]     /Users/rohansridhar/nltk_data...\n",
      "[nltk_data]   Package stopwords is already up-to-date!\n"
     ]
    }
   ],
   "source": [
    "import nltk \n",
    "from nltk.corpus import stopwords\n",
    "from nltk.tokenize import word_tokenize\n",
    "nltk.download('punkt')\n",
    "nltk.download('stopwords')\n",
    "def remove_stopwords(filepath):\n",
    "    \n",
    "    with open(filepath,'r') as file:\n",
    "        passage=file.read()\n",
    "        stop_words=set(stopwords.words('english'))\n",
    "        words=word_tokenize(passage)\n",
    "        filter_words=[word for word in words if word.lower() not in stop_words]\n",
    "        filter_passage=''.join(filter_words)\n",
    "        return filter_passage\n",
    "filepath=\"sample3.txt\"\n",
    "filter_passage=remove_stopwords(filepath)\n",
    "print(\"before removing stopwords:\")\n",
    "with open(filepath,'r') as file:\n",
    "    print(file.read())\n",
    "print('-'*20)\n",
    "print(\"after removing stopwords:\",filter_passage)\n",
    "print('-'*20)"
   ]
  },
  {
   "cell_type": "code",
   "execution_count": 19,
   "metadata": {},
   "outputs": [
    {
     "name": "stdout",
     "output_type": "stream",
     "text": [
      "before stemming: Ex eorum enim scriptis et institutis cum omnis doctrina liberalis, omnis historia.Quod si ita est, sequitur id ipsum, quod te velle video, omnes semper beatos esse sapientes. Cum enim fertur quasi torrens oratio, quamvis multa cuiusque modi rapiat, nihil tamen teneas, nihil apprehendas, nusquam orationem rapidam coerceas. Ita redarguitur ipse a sese, convincunturque scripta eius probitate ipsius ac moribus. At quanta conantur! Mundum hunc omnem oppidum esse nostrum! Incendi igitur eos, qui audiunt, vides. Vide, ne magis, inquam, tuum fuerit, cum re idem tibi, quod mihi, videretur, non nova te rebus nomina inponere. Qui-vere falsone, quaerere mittimus-dicitur oculis se privasse; Si ista mala sunt, in quae potest incidere sapiens, sapientem esse non esse ad beate vivendum satis. At vero si ad vitem sensus accesserit, ut appetitum quendam habeat et per se ipsa moveatur, quid facturam putas?Quem si tenueris, non modo meum Ciceronem, sed etiam me ipsum abducas licebit.Stulti autem malorum memoria torquentur, sapientes bona praeterita grata recordatione renovata delectant.\n",
      "----------------------------------------------------------------------------------------------------------------------------------------------------------------------------------------------------------------------------------------------------------------------------------------------------------------------------------------------------------------------------------------------------------------------------------------------------------------------------------------------------------------------------------------------------------------------------------------------------------------------------------------------------------------------------------------------------------------------------------------------------------------------------------------------------------------------------------------------------------------------------------------------------------------------------------------------------------------------------------------------------------------------------------------\n",
      "after stemming: Ex historia.Quod At Mundum Incendi Vide Qui-vere At Quem Ciceronem licebit.Stulti\n",
      "----------------------------------------------------------------------------------------------------------------------------------------------------------------------------------------------------------------------------------------------------------------------------------------------------------------------------------------------------------------------------------------------------------------------------------------------------------------------------------------------------------------------------------------------------------------------------------------------------------------------------------------------------------------------------------------------------------------------------------------------------------------------------------------------------------------------------------------------------------------------------------------------------------------------------------------------------------------------------------------------------------------------------------------\n"
     ]
    }
   ],
   "source": [
    "from nltk.stem import PorterStemmer\n",
    "def stemming(input_sentence):\n",
    "    stemmer=PorterStemmer()\n",
    "    words=word_tokenize(input_sentence)\n",
    "    stemmed_words=[word for word in words if word.lower() not in words]\n",
    "    return ' '.join(stemmed_words)\n",
    "input_sentence=\"Ex eorum enim scriptis et institutis cum omnis doctrina liberalis, omnis historia.Quod si ita est, sequitur id ipsum, quod te velle video, omnes semper beatos esse sapientes. Cum enim fertur quasi torrens oratio, quamvis multa cuiusque modi rapiat, nihil tamen teneas, nihil apprehendas, nusquam orationem rapidam coerceas. Ita redarguitur ipse a sese, convincunturque scripta eius probitate ipsius ac moribus. At quanta conantur! Mundum hunc omnem oppidum esse nostrum! Incendi igitur eos, qui audiunt, vides. Vide, ne magis, inquam, tuum fuerit, cum re idem tibi, quod mihi, videretur, non nova te rebus nomina inponere. Qui-vere falsone, quaerere mittimus-dicitur oculis se privasse; Si ista mala sunt, in quae potest incidere sapiens, sapientem esse non esse ad beate vivendum satis. At vero si ad vitem sensus accesserit, ut appetitum quendam habeat et per se ipsa moveatur, quid facturam putas?Quem si tenueris, non modo meum Ciceronem, sed etiam me ipsum abducas licebit.Stulti autem malorum memoria torquentur, sapientes bona praeterita grata recordatione renovata delectant.\" \n",
    "stemmed_sentence=stemming(input_sentence)\n",
    "print(\"before stemming:\",input_sentence)\n",
    "print('-'*1000)\n",
    "print(\"after stemming:\",stemmed_sentence)\n",
    "print('-'*1000)\n",
    "\n"
   ]
  },
  {
   "cell_type": "code",
   "execution_count": 22,
   "metadata": {},
   "outputs": [
    {
     "name": "stdout",
     "output_type": "stream",
     "text": [
      "sent_tag [('mini', 'VB'), ('the', 'DT'), ('naughty', 'JJ'), ('cat', 'NN'), ('plays', 'NNS'), ('with', 'IN'), ('julie', 'PDT'), ('the', 'DT'), ('lazy', 'NN'), ('dog', 'NN')]\n"
     ]
    },
    {
     "name": "stderr",
     "output_type": "stream",
     "text": [
      "[nltk_data] Downloading package averaged_perceptron_tagger to\n",
      "[nltk_data]     /Users/rohansridhar/nltk_data...\n",
      "[nltk_data]   Package averaged_perceptron_tagger is already up-to-\n",
      "[nltk_data]       date!\n"
     ]
    }
   ],
   "source": [
    "nltk.download(\"averaged_perceptron_tagger\")\n",
    "def pos(sentence):\n",
    "    words=word_tokenize(sentence)\n",
    "    tagged=nltk.pos_tag(words)\n",
    "    return tagged \n",
    "sentence=\"mini the naughty cat plays with julie the lazy dog\"\n",
    "sent_tag=pos(sentence)\n",
    "print(\"sent_tag\",sent_tag)"
   ]
  },
  {
   "cell_type": "code",
   "execution_count": 17,
   "metadata": {},
   "outputs": [
    {
     "name": "stdout",
     "output_type": "stream",
     "text": [
      "before\n",
      "Quod equidem non reprehendo;\n",
      "Lorem ipsum dolor sit amet, consectetur adipiscing elit. Quibus natura iure responderit non esse verum aliunde finem beate vivendi, a se principia rei gerendae peti; Quae enim adhuc protulisti, popularia sunt, ego autem a te elegantiora desidero. Duo Reges: constructio interrete. Tum Lucius: Mihi vero ista valde probata sunt, quod item fratri puto. Bestiarum vero nullum iudicium puto. Nihil enim iam habes, quod ad corpus referas; Deinde prima illa, quae in congressu solemus: Quid tu, inquit, huc? Et homini, qui ceteris animantibus plurimum praestat, praecipue a natura nihil datum esse dicemus?\n",
      "\n",
      "Iam id ipsum absurdum, maximum malum neglegi. Quod ea non occurrentia fingunt, vincunt Aristonem; Atqui perspicuum est hominem e corpore animoque constare, cum primae sint animi partes, secundae corporis. Fieri, inquam, Triari, nullo pacto potest, ut non dicas, quid non probes eius, a quo dissentias. Equidem e Cn. An dubium est, quin virtus ita maximam partem optineat in rebus humanis, ut reliquas obruat?\n",
      "\n",
      "Quis istum dolorem timet?\n",
      "Summus dolor plures dies manere non potest? Dicet pro me ipsa virtus nec dubitabit isti vestro beato M. Tubulum fuisse, qua illum, cuius is condemnatus est rogatione, P. Quod si ita sit, cur opera philosophiae sit danda nescio.\n",
      "\n",
      "Ex eorum enim scriptis et institutis cum omnis doctrina liberalis, omnis historia.\n",
      "Quod si ita est, sequitur id ipsum, quod te velle video, omnes semper beatos esse sapientes. Cum enim fertur quasi torrens oratio, quamvis multa cuiusque modi rapiat, nihil tamen teneas, nihil apprehendas, nusquam orationem rapidam coerceas. Ita redarguitur ipse a sese, convincunturque scripta eius probitate ipsius ac moribus. At quanta conantur! Mundum hunc omnem oppidum esse nostrum! Incendi igitur eos, qui audiunt, vides. Vide, ne magis, inquam, tuum fuerit, cum re idem tibi, quod mihi, videretur, non nova te rebus nomina inponere. Qui-vere falsone, quaerere mittimus-dicitur oculis se privasse; Si ista mala sunt, in quae potest incidere sapiens, sapientem esse non esse ad beate vivendum satis. At vero si ad vitem sensus accesserit, ut appetitum quendam habeat et per se ipsa moveatur, quid facturam putas?\n",
      "\n",
      "Quem si tenueris, non modo meum Ciceronem, sed etiam me ipsum abducas licebit.\n",
      "Stulti autem malorum memoria torquentur, sapientes bona praeterita grata recordatione renovata delectant.\n",
      "Esse enim quam vellet iniquus iustus poterat inpune.\n",
      "Quae autem natura suae primae institutionis oblita est?\n",
      "Verum tamen cum de rebus grandioribus dicas, ipsae res verba rapiunt;\n",
      "Hoc est non modo cor non habere, sed ne palatum quidem.\n",
      "Voluptatem cum summum bonum diceret, primum in eo ipso parum vidit, deinde hoc quoque alienum; Sed tu istuc dixti bene Latine, parum plane. Nam haec ipsa mihi erunt in promptu, quae modo audivi, nec ante aggrediar, quam te ab istis, quos dicis, instructum videro. Fatebuntur Stoici haec omnia dicta esse praeclare, neque eam causam Zenoni desciscendi fuisse. Non autem hoc: igitur ne illud quidem. Ratio quidem vestra sic cogit. Cum audissem Antiochum, Brute, ut solebam, cum M. An quod ita callida est, ut optime possit architectari voluptates?\n",
      "\n",
      "Idemne, quod iucunde?\n",
      "Haec mihi videtur delicatior, ut ita dicam, molliorque ratio, quam virtutis vis gravitasque postulat. Sed quoniam et advesperascit et mihi ad villam revertendum est, nunc quidem hactenus; Cuius ad naturam apta ratio vera illa et summa lex a philosophis dicitur. Neque solum ea communia, verum etiam paria esse dixerunt. Sed nunc, quod agimus; A mene tu?\n",
      "after\n",
      "Quod equidem non reprehendo ; Lorem ipsum dolor sit amet , consectetur adipiscing elit . Quibus natura iure responderit non esse verum aliunde finem beate vivendi , se principia rei gerendae peti ; Quae enim adhuc protulisti , popularia sunt , ego autem te elegantiora desidero . Duo Reges : constructio interrete . Tum Lucius : Mihi vero ista valde probata sunt , quod item fratri puto . Bestiarum vero nullum iudicium puto . Nihil enim iam habes , quod ad corpus referas ; Deinde prima illa , quae congressu solemus : Quid tu , inquit , huc ? Et homini , qui ceteris animantibus plurimum praestat , praecipue natura nihil datum esse dicemus ? Iam id ipsum absurdum , maximum malum neglegi . Quod ea non occurrentia fingunt , vincunt Aristonem ; Atqui perspicuum est hominem e corpore animoque constare , cum primae sint animi partes , secundae corporis . Fieri , inquam , Triari , nullo pacto potest , ut non dicas , quid non probes eius , quo dissentias . Equidem e Cn . dubium est , quin virtus ita maximam partem optineat rebus humanis , ut reliquas obruat ? Quis istum dolorem timet ? Summus dolor plures dies manere non potest ? Dicet pro ipsa virtus nec dubitabit isti vestro beato M. Tubulum fuisse , qua illum , cuius condemnatus est rogatione , P. Quod si ita sit , cur opera philosophiae sit danda nescio . Ex eorum enim scriptis et institutis cum omnis doctrina liberalis , omnis historia . Quod si ita est , sequitur id ipsum , quod te velle video , omnes semper beatos esse sapientes . Cum enim fertur quasi torrens oratio , quamvis multa cuiusque modi rapiat , nihil tamen teneas , nihil apprehendas , nusquam orationem rapidam coerceas . Ita redarguitur ipse sese , convincunturque scripta eius probitate ipsius ac moribus . quanta conantur ! Mundum hunc omnem oppidum esse nostrum ! Incendi igitur eos , qui audiunt , vides . Vide , ne magis , inquam , tuum fuerit , cum idem tibi , quod mihi , videretur , non nova te rebus nomina inponere . Qui-vere falsone , quaerere mittimus-dicitur oculis se privasse ; Si ista mala sunt , quae potest incidere sapiens , sapientem esse non esse ad beate vivendum satis . vero si ad vitem sensus accesserit , ut appetitum quendam habeat et per se ipsa moveatur , quid facturam putas ? Quem si tenueris , non modo meum Ciceronem , sed etiam ipsum abducas licebit . Stulti autem malorum memoria torquentur , sapientes bona praeterita grata recordatione renovata delectant . Esse enim quam vellet iniquus iustus poterat inpune . Quae autem natura suae primae institutionis oblita est ? Verum tamen cum de rebus grandioribus dicas , ipsae res verba rapiunt ; Hoc est non modo cor non habere , sed ne palatum quidem . Voluptatem cum summum bonum diceret , primum eo ipso parum vidit , deinde hoc quoque alienum ; Sed tu istuc dixti bene Latine , parum plane . Nam haec ipsa mihi erunt promptu , quae modo audivi , nec ante aggrediar , quam te ab istis , quos dicis , instructum videro . Fatebuntur Stoici haec omnia dicta esse praeclare , neque eam causam Zenoni desciscendi fuisse . Non autem hoc : igitur ne illud quidem . Ratio quidem vestra sic cogit . Cum audissem Antiochum , Brute , ut solebam , cum M. quod ita callida est , ut optime possit architectari voluptates ? Idemne , quod iucunde ? Haec mihi videtur delicatior , ut ita dicam , molliorque ratio , quam virtutis vis gravitasque postulat . Sed quoniam et advesperascit et mihi ad villam revertendum est , nunc quidem hactenus ; Cuius ad naturam apta ratio vera illa et summa lex philosophis dicitur . Neque solum ea communia , verum etiam paria esse dixerunt . Sed nunc , quod agimus ; mene tu ?\n"
     ]
    },
    {
     "name": "stderr",
     "output_type": "stream",
     "text": [
      "[nltk_data] Downloading package punkt to\n",
      "[nltk_data]     /Users/rohansridhar/nltk_data...\n",
      "[nltk_data]   Package punkt is already up-to-date!\n"
     ]
    }
   ],
   "source": [
    "import nltk \n",
    "from nltk.corpus import stopwords\n",
    "from nltk.tokenize import word_tokenize\n",
    "nltk.download('punkt')\n",
    "def remove_stopwords(filepath):\n",
    "    with open(\"sample3.txt\",'r') as file:\n",
    "        passage=file.read()\n",
    "        words=word_tokenize(passage)\n",
    "        stop_words=set(stopwords.words('english'))\n",
    "        filter_words=[word for word in words if word.lower() not in stop_words]\n",
    "        filter_sen=' '.join(filter_words)\n",
    "        return filter_sen\n",
    "filepath='sample3.txt'\n",
    "print(\"before\")\n",
    "with open(\"sample3.txt\",'r') as file:\n",
    "        print(file.read())\n",
    "print(\"after\")\n",
    "op=remove_stopwords(filepath)\n",
    "print(op)\n",
    "\n",
    "        \n",
    "        \n",
    "    "
   ]
  },
  {
   "cell_type": "code",
   "execution_count": null,
   "metadata": {},
   "outputs": [],
   "source": []
  }
 ],
 "metadata": {
  "kernelspec": {
   "display_name": "Python 3",
   "language": "python",
   "name": "python3"
  },
  "language_info": {
   "codemirror_mode": {
    "name": "ipython",
    "version": 3
   },
   "file_extension": ".py",
   "mimetype": "text/x-python",
   "name": "python",
   "nbconvert_exporter": "python",
   "pygments_lexer": "ipython3",
   "version": "3.9.6"
  }
 },
 "nbformat": 4,
 "nbformat_minor": 2
}

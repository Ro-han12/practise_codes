{
 "cells": [
  {
   "cell_type": "code",
   "execution_count": 2,
   "metadata": {},
   "outputs": [
    {
     "name": "stdout",
     "output_type": "stream",
     "text": [
      "sum of matrix A and matrix B of: [[ 13  17  59]\n",
      " [ 71  94  96]\n",
      " [165 177 189]]\n"
     ]
    }
   ],
   "source": [
    "import numpy as np\n",
    "matrix_A=np.array([\n",
    "    [1,2,3],\n",
    "    [4,5,6],\n",
    "    [99,100,101]\n",
    "])\n",
    "matrix_B=np.array([\n",
    "    [12,15,56],\n",
    "    [67,89,90],\n",
    "    [66,77,88]\n",
    "])\n",
    "result=matrix_A + matrix_B\n",
    "print(\"sum of matrix A and matrix B of:\",result)"
   ]
  },
  {
   "cell_type": "code",
   "execution_count": 5,
   "metadata": {},
   "outputs": [
    {
     "name": "stdout",
     "output_type": "stream",
     "text": [
      "before transpose [[  1   2   3]\n",
      " [  4   5   6]\n",
      " [ 99 100 101]]\n",
      "after transpose [[  1   4  99]\n",
      " [  2   5 100]\n",
      " [  3   6 101]]\n"
     ]
    }
   ],
   "source": [
    "import numpy as np\n",
    "matrix_A=np.array([\n",
    "    [1,2,3],\n",
    "    [4,5,6],\n",
    "    [99,100,101]\n",
    "])\n",
    "transpose_matrix=np.transpose(matrix_A)\n",
    "print(\"before transpose\",matrix_A)\n",
    "print(\"after transpose\",transpose_matrix)"
   ]
  },
  {
   "cell_type": "code",
   "execution_count": null,
   "metadata": {},
   "outputs": [],
   "source": []
  }
 ],
 "metadata": {
  "kernelspec": {
   "display_name": "Python 3",
   "language": "python",
   "name": "python3"
  },
  "language_info": {
   "codemirror_mode": {
    "name": "ipython",
    "version": 3
   },
   "file_extension": ".py",
   "mimetype": "text/x-python",
   "name": "python",
   "nbconvert_exporter": "python",
   "pygments_lexer": "ipython3",
   "version": "3.9.6"
  }
 },
 "nbformat": 4,
 "nbformat_minor": 2
}

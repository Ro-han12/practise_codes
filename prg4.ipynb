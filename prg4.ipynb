{
 "cells": [
  {
   "cell_type": "code",
   "execution_count": 9,
   "metadata": {},
   "outputs": [
    {
     "name": "stdout",
     "output_type": "stream",
     "text": [
      "union of two sets is {1, 2, 3, 4, 5, 6, 7, 8, 9, 10, 'mango', 'apple', 'banana', 'strawberry'}\n",
      "intersection of two sets is {'banana'}\n",
      "symmetric difference of two sets is {1, 2, 3, 4, 5, 6, 7, 8, 9, 10, 'mango', 'apple', 'strawberry'}\n"
     ]
    },
    {
     "data": {
      "text/plain": [
       "False"
      ]
     },
     "execution_count": 9,
     "metadata": {},
     "output_type": "execute_result"
    }
   ],
   "source": [
    "set1={'apple','mango','banana','strawberry'}\n",
    "set2={1,2,3,4,5,6,7,8,9,10,'banana'}\n",
    "union_set=set1.union(set2)\n",
    "print(\"union of two sets is\",union_set)\n",
    "intersect_set=set1.intersection(set2)\n",
    "print(\"intersection of two sets is\",intersect_set)\n",
    "symmetric_diff=set1.symmetric_difference(set2)\n",
    "print(\"symmetric difference of two sets is\",symmetric_diff)\n",
    "set1.issubset(set2)"
   ]
  },
  {
   "cell_type": "code",
   "execution_count": 13,
   "metadata": {},
   "outputs": [
    {
     "name": "stdout",
     "output_type": "stream",
     "text": [
      "     June 2003\n",
      "Mo Tu We Th Fr Sa Su\n",
      "                   1\n",
      " 2  3  4  5  6  7  8\n",
      " 9 10 11 12 13 14 15\n",
      "16 17 18 19 20 21 22\n",
      "23 24 25 26 27 28 29\n",
      "30\n",
      "\n"
     ]
    }
   ],
   "source": [
    "import calendar\n",
    "year=int(input(\"enter the year\"))\n",
    "month=int(input(\"enter the month\"))\n",
    "print(calendar.month(year,month))"
   ]
  },
  {
   "cell_type": "code",
   "execution_count": 15,
   "metadata": {},
   "outputs": [
    {
     "name": "stdout",
     "output_type": "stream",
     "text": [
      "select operation to perform dude\n",
      "1.ADDITION\n",
      "2.SUBTRACTION\n",
      "3.PRODUCT\n",
      "4.DIVISION\n",
      "product: 144\n"
     ]
    }
   ],
   "source": [
    "def add(a,b):\n",
    "    return a+b\n",
    "def sub(a,b):\n",
    "    return a-b\n",
    "def product(a,b):\n",
    "    return a*b\n",
    "def divide(a,b):\n",
    "    if y==0:\n",
    "        print(\"cant divide by zero\")\n",
    "    return a/b\n",
    "a=int(input(\"enter a number\"))\n",
    "b=int(input(\"enter a number\"))\n",
    "print(\"select operation to perform dude\")\n",
    "print(\"1.ADDITION\")\n",
    "print(\"2.SUBTRACTION\")\n",
    "print(\"3.PRODUCT\")\n",
    "print(\"4.DIVISION\")\n",
    "choice=int(input(\"enter a choice from above\"))\n",
    "if choice == 1:\n",
    "    print(\"addition:\",add(a,b))\n",
    "elif choice ==2:\n",
    "    print(\"addition:\",sub(a,b))\n",
    "elif choice ==3:\n",
    "    print(\"product:\",product(a,b))\n",
    "elif choice ==4:\n",
    "    print(\"division:\",divide(a,b))\n",
    "else:\n",
    "    print(\"wrong choice made\")"
   ]
  },
  {
   "cell_type": "code",
   "execution_count": null,
   "metadata": {},
   "outputs": [],
   "source": []
  }
 ],
 "metadata": {
  "kernelspec": {
   "display_name": "Python 3",
   "language": "python",
   "name": "python3"
  },
  "language_info": {
   "codemirror_mode": {
    "name": "ipython",
    "version": 3
   },
   "file_extension": ".py",
   "mimetype": "text/x-python",
   "name": "python",
   "nbconvert_exporter": "python",
   "pygments_lexer": "ipython3",
   "version": "3.9.6"
  }
 },
 "nbformat": 4,
 "nbformat_minor": 2
}

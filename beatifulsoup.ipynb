{
 "cells": [
  {
   "cell_type": "code",
   "execution_count": 6,
   "metadata": {},
   "outputs": [
    {
     "name": "stdout",
     "output_type": "stream",
     "text": [
      "headings of the title is\n",
      "['article1']\n",
      "['article2']\n"
     ]
    }
   ],
   "source": [
    "from bs4 import BeautifulSoup \n",
    "html_content='''\n",
    "<html>\n",
    "    <body>\n",
    "        <h2>article1</h2>\n",
    "        <p>content of article 1</p>\n",
    "        <h2>article2</h2>\n",
    "        <p>content of article 2</p>\n",
    "    </body>\n",
    "</html>\n",
    "'''\n",
    "soup=BeautifulSoup(html_content,'html.parser')\n",
    "article_titles=soup.find_all(\"h2\")\n",
    "print(\"headings of the title is\")\n",
    "for title in article_titles:\n",
    "    print(title.text.split())"
   ]
  },
  {
   "cell_type": "code",
   "execution_count": 3,
   "metadata": {},
   "outputs": [
    {
     "name": "stdout",
     "output_type": "stream",
     "text": [
      "['article1']\n",
      "['article2']\n"
     ]
    }
   ],
   "source": [
    "import requests \n",
    "from bs4 import BeautifulSoup \n",
    "url=\"http://127.0.0.1:5500/index.html\"\n",
    "response=requests.get(url)\n",
    "if response.status_code==200:\n",
    "    soup=BeautifulSoup(response.content,'html.parser')\n",
    "    article_titles=soup.find_all(\"h2\")\n",
    "    for title in article_titles:\n",
    "        print(title.text.split())\n",
    "else:\n",
    "    print(\"failed\")\n",
    "    "
   ]
  },
  {
   "cell_type": "code",
   "execution_count": null,
   "metadata": {},
   "outputs": [],
   "source": []
  }
 ],
 "metadata": {
  "kernelspec": {
   "display_name": "Python 3",
   "language": "python",
   "name": "python3"
  },
  "language_info": {
   "codemirror_mode": {
    "name": "ipython",
    "version": 3
   },
   "file_extension": ".py",
   "mimetype": "text/x-python",
   "name": "python",
   "nbconvert_exporter": "python",
   "pygments_lexer": "ipython3",
   "version": "3.9.6"
  }
 },
 "nbformat": 4,
 "nbformat_minor": 2
}

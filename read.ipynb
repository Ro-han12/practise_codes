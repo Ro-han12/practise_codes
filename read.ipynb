{
 "cells": [
  {
   "cell_type": "code",
   "execution_count": 14,
   "metadata": {},
   "outputs": [],
   "source": [
    "# # Read input from input.txt\n",
    "# with open('input.txt', 'r') as file:\n",
    "#     numbers = file.read().split(',')  # Assuming numbers are comma-separated\n",
    "#     numbers = [int(num) for num in numbers]  # Convert strings to integers\n",
    "\n",
    "# # Calculate the average\n",
    "# if numbers:\n",
    "#     average = sum(numbers) / len(numbers)\n",
    "#     print(\"Average:\", average)\n",
    "\n",
    "#     # Write the average to output.txt\n",
    "#     with open('output.txt', 'w') as output_file:\n",
    "#         output_file.write(str(average))\n",
    "# else:\n",
    "#     print(\"No numbers found in the input file.\")\n"
   ]
  }
 ],
 "metadata": {
  "kernelspec": {
   "display_name": "Python 3",
   "language": "python",
   "name": "python3"
  },
  "language_info": {
   "codemirror_mode": {
    "name": "ipython",
    "version": 3
   },
   "file_extension": ".py",
   "mimetype": "text/x-python",
   "name": "python",
   "nbconvert_exporter": "python",
   "pygments_lexer": "ipython3",
   "version": "3.9.6"
  }
 },
 "nbformat": 4,
 "nbformat_minor": 2
}

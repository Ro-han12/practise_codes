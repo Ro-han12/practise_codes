{
 "cells": [
  {
   "cell_type": "code",
   "execution_count": 13,
   "metadata": {},
   "outputs": [
    {
     "name": "stdout",
     "output_type": "stream",
     "text": [
      "original: The quick brown foxes jumps over the lazy dog \n",
      "----------------------------------------------------------------------------------------------------------------------------------------------------------------------------------------------------------------------------------------------------------------------------------------------------------------------------------------------------------------------------------------------------------------------------------------------------------------------------------------------------------------------------------------------------------------------------------------------------------------------------------------------------------------------------------------------------------------------------------------------------------------------------------------------------------------------------------------------------------------------------------------------------------------------------------------------------------------------------------------------------------------------------------------\n",
      "after effect: The quick brown fox jump over the lazy dog\n",
      "----------------------------------------------------------------------------------------------------------------------------------------------------------------------------------------------------------------------------------------------------------------------------------------------------------------------------------------------------------------------------------------------------------------------------------------------------------------------------------------------------------------------------------------------------------------------------------------------------------------------------------------------------------------------------------------------------------------------------------------------------------------------------------------------------------------------------------------------------------------------------------------------------------------------------------------------------------------------------------------------------------------------------------------\n"
     ]
    },
    {
     "name": "stderr",
     "output_type": "stream",
     "text": [
      "[nltk_data] Downloading package wordnet to\n",
      "[nltk_data]     /Users/rohansridhar/nltk_data...\n",
      "[nltk_data]   Package wordnet is already up-to-date!\n"
     ]
    }
   ],
   "source": [
    "import nltk\n",
    "nltk.download('wordnet')\n",
    "from nltk.stem import WordNetLemmatizer\n",
    "from nltk.tokenize import word_tokenize\n",
    "def lemmatizerr(sentence):\n",
    "    lemma=WordNetLemmatizer()\n",
    "    words=word_tokenize(sentence)\n",
    "    lemma_words=[lemma.lemmatize(word) for word in words]\n",
    "    lemma_sentence=' '.join(lemma_words)\n",
    "    return lemma_sentence\n",
    "sentence=\"The quick brown foxes jumps over the lazy dog \"\n",
    "alter=lemmatizerr(sentence)\n",
    "print(\"original:\",sentence)\n",
    "print('-'*1000)\n",
    "print(\"after effect:\",alter)\n",
    "print('-'*1000)"
   ]
  },
  {
   "cell_type": "code",
   "execution_count": 6,
   "metadata": {},
   "outputs": [
    {
     "name": "stderr",
     "output_type": "stream",
     "text": [
      "[nltk_data] Downloading package punkt to\n",
      "[nltk_data]     /Users/rohansridhar/nltk_data...\n",
      "[nltk_data]   Package punkt is already up-to-date!\n",
      "[nltk_data] Downloading package movie_reviews to\n",
      "[nltk_data]     /Users/rohansridhar/nltk_data...\n",
      "[nltk_data]   Package movie_reviews is already up-to-date!\n"
     ]
    }
   ],
   "source": [
    "import nltk \n",
    "import sklearn\n",
    "from nltk.classify.scikitlearn import SklearnClassifier\n",
    "from sklearn.naive_bayes import MultinomialNB\n",
    "from nltk.tokenize import word_tokenize\n",
    "from nltk.corpus import movie_reviews\n",
    "nltk.download('punkt')\n",
    "nltk.download(\"movie_reviews\")\n",
    "import random"
   ]
  },
  {
   "cell_type": "code",
   "execution_count": 9,
   "metadata": {},
   "outputs": [
    {
     "name": "stdout",
     "output_type": "stream",
     "text": [
      "accuracy: 0.9821052631578947\n",
      "sentiment analysis: neg\n"
     ]
    }
   ],
   "source": [
    "def extract_feature(words):\n",
    "    return {word: True for word in words}\n",
    "documents=[(list(movie_reviews.words(fileid)),category)\n",
    "           for category in movie_reviews.categories()\n",
    "           for fileid in movie_reviews.fileids(category)]\n",
    "random.shuffle(documents)\n",
    "featureset=[(extract_feature(words),category) for (words,category) in documents]\n",
    "train_set,test_set=featureset[100:],featureset[100:]\n",
    "classifier=SklearnClassifier(MultinomialNB())\n",
    "classifier.train(train_set)\n",
    "accuracy=nltk.classify.accuracy(classifier,test_set)\n",
    "print(\"accuracy:\",accuracy)\n",
    "input_sentence=input(\"enter the review\")\n",
    "words=word_tokenize(input_sentence)\n",
    "features=extract_feature(words)\n",
    "predicted=classifier.classify(features)\n",
    "print(\"sentiment analysis:\",predicted)"
   ]
  },
  {
   "cell_type": "code",
   "execution_count": null,
   "metadata": {},
   "outputs": [],
   "source": []
  }
 ],
 "metadata": {
  "kernelspec": {
   "display_name": "Python 3",
   "language": "python",
   "name": "python3"
  },
  "language_info": {
   "codemirror_mode": {
    "name": "ipython",
    "version": 3
   },
   "file_extension": ".py",
   "mimetype": "text/x-python",
   "name": "python",
   "nbconvert_exporter": "python",
   "pygments_lexer": "ipython3",
   "version": "3.9.6"
  }
 },
 "nbformat": 4,
 "nbformat_minor": 2
}

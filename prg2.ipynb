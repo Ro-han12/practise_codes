{
 "cells": [
  {
   "cell_type": "code",
   "execution_count": 1,
   "metadata": {},
   "outputs": [
    {
     "name": "stdout",
     "output_type": "stream",
     "text": [
      "I AM TOMMY A SIMPLE CHATBOT \n",
      "how can i help\n",
      "goodbye! have a good day\n"
     ]
    }
   ],
   "source": [
    "def chatbot():\n",
    "    responses={'hey':\"how can i help\",\"hello\":\"weather looks good today\",'sup!!!':\"how can i help you\"}\n",
    "    print(\"I AM TOMMY A SIMPLE CHATBOT \")\n",
    "    while True:\n",
    "        user_input=input(\"you!!\").lower()\n",
    "        if user_input=='exit':\n",
    "            print(\"goodbye! have a good day\")\n",
    "            break\n",
    "        print(responses.get(user_input))\n",
    "if __name__=='__main__':\n",
    "    chatbot()"
   ]
  }
 ],
 "metadata": {
  "kernelspec": {
   "display_name": "Python 3",
   "language": "python",
   "name": "python3"
  },
  "language_info": {
   "codemirror_mode": {
    "name": "ipython",
    "version": 3
   },
   "file_extension": ".py",
   "mimetype": "text/x-python",
   "name": "python",
   "nbconvert_exporter": "python",
   "pygments_lexer": "ipython3",
   "version": "3.9.6"
  }
 },
 "nbformat": 4,
 "nbformat_minor": 2
}

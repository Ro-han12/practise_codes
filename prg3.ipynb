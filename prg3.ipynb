{
 "cells": [
  {
   "cell_type": "markdown",
   "metadata": {},
   "source": [
    " Write a python program to implement List operations (Nested Lis\n",
    "Length, Concatenation, Membership, Iteration, Indexing and Slicing)?"
   ]
  },
  {
   "cell_type": "code",
   "execution_count": 50,
   "metadata": {},
   "outputs": [
    {
     "name": "stdout",
     "output_type": "stream",
     "text": [
      "length of the nested list is: 3\n"
     ]
    }
   ],
   "source": [
    "nested_list=[[1,2,3],[4,56,18],[77,10,21]]\n",
    "print(\"length of the nested list is:\",len(nested_list))"
   ]
  },
  {
   "cell_type": "code",
   "execution_count": 51,
   "metadata": {},
   "outputs": [
    {
     "name": "stdout",
     "output_type": "stream",
     "text": [
      "concatenation of the two list is: [23, 24, 27, 29, 99, 101, 13, 15, 18]\n"
     ]
    }
   ],
   "source": [
    "list1=[23,24,27,29]\n",
    "list2=[99,101,13,15,18]\n",
    "print(\"concatenation of the two list is:\",list1+list2)"
   ]
  },
  {
   "cell_type": "code",
   "execution_count": 52,
   "metadata": {},
   "outputs": [
    {
     "name": "stdout",
     "output_type": "stream",
     "text": [
      "member of list1\n"
     ]
    }
   ],
   "source": [
    "if 23 in  list1:\n",
    "    print(\"member of list1\")\n",
    "else:\n",
    "    print(\"not such member\")"
   ]
  },
  {
   "cell_type": "code",
   "execution_count": 53,
   "metadata": {},
   "outputs": [
    {
     "name": "stdout",
     "output_type": "stream",
     "text": [
      "iterating list2 and elements found are 99\n",
      "iterating list2 and elements found are 101\n",
      "iterating list2 and elements found are 13\n",
      "iterating list2 and elements found are 15\n",
      "iterating list2 and elements found are 18\n"
     ]
    }
   ],
   "source": [
    "for element in list2:\n",
    "    print(\"iterating list2 and elements found are\",element)"
   ]
  },
  {
   "cell_type": "code",
   "execution_count": 54,
   "metadata": {},
   "outputs": [
    {
     "name": "stdout",
     "output_type": "stream",
     "text": [
      "applying sclicing operation: [29, 27, 24, 23]\n"
     ]
    }
   ],
   "source": [
    "print(\"applying sclicing operation:\",list1[::-1])"
   ]
  },
  {
   "cell_type": "markdown",
   "metadata": {},
   "source": [
    "(b) Write a python program to implement List methods (Add, Append,\n",
    "Extend & Delete)."
   ]
  },
  {
   "cell_type": "code",
   "execution_count": 55,
   "metadata": {},
   "outputs": [
    {
     "name": "stdout",
     "output_type": "stream",
     "text": [
      "updated list [1, 2, 34, 5, 67, 89, 99]\n"
     ]
    }
   ],
   "source": [
    "my_list=[1,2,34,5,67,89]\n",
    "a=my_list.append(99)\n",
    "print(\"updated list\",my_list)"
   ]
  },
  {
   "cell_type": "code",
   "execution_count": 56,
   "metadata": {},
   "outputs": [
    {
     "data": {
      "text/plain": [
       "[1, 2, 34, 5, 67, 89, 99, 2]"
      ]
     },
     "execution_count": 56,
     "metadata": {},
     "output_type": "execute_result"
    }
   ],
   "source": [
    "my_list.append(2)\n",
    "my_list"
   ]
  },
  {
   "cell_type": "code",
   "execution_count": 57,
   "metadata": {},
   "outputs": [
    {
     "name": "stdout",
     "output_type": "stream",
     "text": [
      "[1, 2, 34, 5, 67, 89, 99, 2, 99, 101]\n"
     ]
    }
   ],
   "source": [
    "my_list1=[99,101]\n",
    "my_list.extend(my_list1)\n",
    "print(my_list)"
   ]
  },
  {
   "cell_type": "code",
   "execution_count": 59,
   "metadata": {},
   "outputs": [
    {
     "data": {
      "text/plain": [
       "[2, 34, 5, 67, 89, 99, 2, 99, 101]"
      ]
     },
     "execution_count": 59,
     "metadata": {},
     "output_type": "execute_result"
    }
   ],
   "source": [
    "my_list.remove(1)\n",
    "my_list"
   ]
  }
 ],
 "metadata": {
  "kernelspec": {
   "display_name": "Python 3",
   "language": "python",
   "name": "python3"
  },
  "language_info": {
   "codemirror_mode": {
    "name": "ipython",
    "version": 3
   },
   "file_extension": ".py",
   "mimetype": "text/x-python",
   "name": "python",
   "nbconvert_exporter": "python",
   "pygments_lexer": "ipython3",
   "version": "3.9.6"
  }
 },
 "nbformat": 4,
 "nbformat_minor": 2
}

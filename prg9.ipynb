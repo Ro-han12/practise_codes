{
 "cells": [
  {
   "cell_type": "code",
   "execution_count": null,
   "metadata": {},
   "outputs": [],
   "source": [
    "import random\n",
    "def hangman():\n",
    "    words=['cherry','strawberry','apple','mango','banana']\n",
    "    word=random.choice(words)\n",
    "    guessed_letter=[]\n",
    "    attempts=6\n",
    "    while attempts>0:\n",
    "        display=''.join(letter if letter in guessed_letter  else '_ ' for letter in word )\n",
    "        print(display)\n",
    "        if all(letter in guessed_letter for letter in word):\n",
    "            print(\"congo!! you guessed right:\",word)\n",
    "            break\n",
    "        guess=input(\"guess a word\")\n",
    "        if guess in guessed_letter:\n",
    "            print(\"u have already guessed:\",word)\n",
    "        else:\n",
    "            guessed_letter.append(guess)\n",
    "            if guess not in word:\n",
    "                attempts-=1\n",
    "                print(f\"no of attempts left is {attempts}\")\n",
    "                if guess == 0:\n",
    "                    print(\"u failed!!!\",word)\n",
    "if __name__=='__main__':\n",
    "    hangman()\n",
    "    "
   ]
  },
  {
   "cell_type": "code",
   "execution_count": null,
   "metadata": {},
   "outputs": [],
   "source": []
  }
 ],
 "metadata": {
  "kernelspec": {
   "display_name": "Python 3",
   "language": "python",
   "name": "python3"
  },
  "language_info": {
   "codemirror_mode": {
    "name": "ipython",
    "version": 3
   },
   "file_extension": ".py",
   "mimetype": "text/x-python",
   "name": "python",
   "nbconvert_exporter": "python",
   "pygments_lexer": "ipython3",
   "version": "3.9.6"
  }
 },
 "nbformat": 4,
 "nbformat_minor": 2
}

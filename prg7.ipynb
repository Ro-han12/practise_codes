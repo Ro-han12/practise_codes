{
 "cells": [
  {
   "cell_type": "code",
   "execution_count": 25,
   "metadata": {},
   "outputs": [
    {
     "name": "stdout",
     "output_type": "stream",
     "text": [
      "fill jug1 7/7\n",
      "pour water from 2/7->5/5\n",
      "empty jug2 {jug1}/{jug1_cap}->{jug2}/{jug2_cap}\n",
      "pour water from 0/7->2/5\n",
      "fill jug1 7/7\n",
      "pour water from 4/7->5/5\n",
      "empty jug2 {jug1}/{jug1_cap}->{jug2}/{jug2_cap}\n",
      "pour water from 0/7->4/5\n",
      "fill jug1 7/7\n",
      "pour water from 6/7->5/5\n",
      "empty jug2 {jug1}/{jug1_cap}->{jug2}/{jug2_cap}\n",
      "pour water from 1/7->5/5\n",
      "empty jug2 {jug1}/{jug1_cap}->{jug2}/{jug2_cap}\n",
      "pour water from 0/7->1/5\n",
      "fill jug1 7/7\n",
      "pour water from 3/7->5/5\n",
      "target reached 3\n"
     ]
    }
   ],
   "source": [
    "def water_jug(jug1_cap,jug2_cap,target):\n",
    "    jug1=0\n",
    "    jug2=0\n",
    "    while jug1!=target and jug2!=target:\n",
    "        if jug1==0:\n",
    "            jug1=jug1_cap\n",
    "            print(f\"fill jug1 {jug1}/{jug1_cap}\")\n",
    "        elif jug1>0 and jug2 < jug2_cap:\n",
    "            temp=min(jug1,jug2_cap-jug2)\n",
    "            jug1-=temp\n",
    "            jug2+=temp\n",
    "            print(f\"pour water from {jug1}/{jug1_cap}->{jug2}/{jug2_cap}\")\n",
    "        elif jug2==jug2_cap:\n",
    "            jug2=0\n",
    "            print(\"empty jug2 {jug1}/{jug1_cap}->{jug2}/{jug2_cap}\")\n",
    "        elif jug2>0 and jug1<jug1_cap:\n",
    "                temp=min(jug2,jug1_cap-jug1)\n",
    "                jug2-=temp\n",
    "                jug1+=temp\n",
    "                print(f\"pour water from {jug2}/{jug2_cap}->{jug1}/{jug1_cap}\")\n",
    "    print(f\"target reached {target}\")\n",
    "water_jug(7,5,3)"
   ]
  },
  {
   "cell_type": "code",
   "execution_count": 24,
   "metadata": {},
   "outputs": [
    {
     "name": "stdout",
     "output_type": "stream",
     "text": [
      "(0, 1, 3)\n"
     ]
    }
   ],
   "source": [
    "def water_jug(jug1_cap,jug2_cap,jug3_cap,target):\n",
    "    for jug1 in range(jug1_cap):\n",
    "        for jug2 in range(jug2_cap):\n",
    "            jug3=target-jug1-jug2\n",
    "            if 0<=jug3<=jug3_cap and (jug1+jug2+jug3==target):\n",
    "                return jug1,jug2,jug3 \n",
    "    print(\"no solution\")\n",
    "    \n",
    "jug1_cap=8\n",
    "jug2_cap=5\n",
    "jug3_cap=3\n",
    "target=4\n",
    "solution=water_jug(jug1_cap,jug2_cap,jug3_cap,target)\n",
    "print(solution)\n",
    "        "
   ]
  }
 ],
 "metadata": {
  "kernelspec": {
   "display_name": "Python 3",
   "language": "python",
   "name": "python3"
  },
  "language_info": {
   "codemirror_mode": {
    "name": "ipython",
    "version": 3
   },
   "file_extension": ".py",
   "mimetype": "text/x-python",
   "name": "python",
   "nbconvert_exporter": "python",
   "pygments_lexer": "ipython3",
   "version": "3.9.6"
  }
 },
 "nbformat": 4,
 "nbformat_minor": 2
}
